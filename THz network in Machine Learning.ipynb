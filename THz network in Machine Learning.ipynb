{
 "cells": [
  {
   "cell_type": "code",
   "execution_count": 1,
   "metadata": {},
   "outputs": [],
   "source": [
    "import numpy as np\n",
    "from sklearn.linear_model import LinearRegression\n",
    "import matplotlib.pyplot as plt\n",
    "import pandas as pd"
   ]
  },
  {
   "cell_type": "code",
   "execution_count": 2,
   "metadata": {},
   "outputs": [
    {
     "data": {
      "text/html": [
       "<div>\n",
       "<style scoped>\n",
       "    .dataframe tbody tr th:only-of-type {\n",
       "        vertical-align: middle;\n",
       "    }\n",
       "\n",
       "    .dataframe tbody tr th {\n",
       "        vertical-align: top;\n",
       "    }\n",
       "\n",
       "    .dataframe thead th {\n",
       "        text-align: right;\n",
       "    }\n",
       "</style>\n",
       "<table border=\"1\" class=\"dataframe\">\n",
       "  <thead>\n",
       "    <tr style=\"text-align: right;\">\n",
       "      <th></th>\n",
       "      <th>Unnamed: 0</th>\n",
       "      <th>blood</th>\n",
       "      <th>skin</th>\n",
       "      <th>Fat</th>\n",
       "      <th>Unnamed: 4</th>\n",
       "      <th>Unnamed: 5</th>\n",
       "      <th>Unnamed: 6</th>\n",
       "      <th>Unnamed: 7</th>\n",
       "      <th>blood.1</th>\n",
       "      <th>skin.1</th>\n",
       "      <th>Fat.1</th>\n",
       "    </tr>\n",
       "  </thead>\n",
       "  <tbody>\n",
       "    <tr>\n",
       "      <th>0</th>\n",
       "      <td>Frequency(THz)</td>\n",
       "      <td>refractive index</td>\n",
       "      <td>NaN</td>\n",
       "      <td>NaN</td>\n",
       "      <td>NaN</td>\n",
       "      <td>NaN</td>\n",
       "      <td>NaN</td>\n",
       "      <td>Frequency(THz)</td>\n",
       "      <td>absorption coefficient(mm^-1)</td>\n",
       "      <td>NaN</td>\n",
       "      <td>NaN</td>\n",
       "    </tr>\n",
       "    <tr>\n",
       "      <th>1</th>\n",
       "      <td>0.2</td>\n",
       "      <td>2.7108</td>\n",
       "      <td>2.487803</td>\n",
       "      <td>2.0305</td>\n",
       "      <td>NaN</td>\n",
       "      <td>NaN</td>\n",
       "      <td>NaN</td>\n",
       "      <td>0.2</td>\n",
       "      <td>11.7758</td>\n",
       "      <td>7.240005</td>\n",
       "      <td>4.0489</td>\n",
       "    </tr>\n",
       "    <tr>\n",
       "      <th>2</th>\n",
       "      <td>0.4</td>\n",
       "      <td>2.2105</td>\n",
       "      <td>2.246139</td>\n",
       "      <td>1.9319</td>\n",
       "      <td>NaN</td>\n",
       "      <td>NaN</td>\n",
       "      <td>NaN</td>\n",
       "      <td>0.4</td>\n",
       "      <td>16.0218</td>\n",
       "      <td>9.490481</td>\n",
       "      <td>5.8964</td>\n",
       "    </tr>\n",
       "    <tr>\n",
       "      <th>3</th>\n",
       "      <td>0.6</td>\n",
       "      <td>2.0427</td>\n",
       "      <td>2.165657</td>\n",
       "      <td>1.8659</td>\n",
       "      <td>NaN</td>\n",
       "      <td>NaN</td>\n",
       "      <td>NaN</td>\n",
       "      <td>0.6</td>\n",
       "      <td>18.6761</td>\n",
       "      <td>11.736955</td>\n",
       "      <td>8.0317</td>\n",
       "    </tr>\n",
       "    <tr>\n",
       "      <th>4</th>\n",
       "      <td>0.8</td>\n",
       "      <td>1.9573</td>\n",
       "      <td>2.111387</td>\n",
       "      <td>1.8101</td>\n",
       "      <td>NaN</td>\n",
       "      <td>NaN</td>\n",
       "      <td>NaN</td>\n",
       "      <td>0.8</td>\n",
       "      <td>20.9721</td>\n",
       "      <td>14.240531</td>\n",
       "      <td>10.0315</td>\n",
       "    </tr>\n",
       "    <tr>\n",
       "      <th>5</th>\n",
       "      <td>1</td>\n",
       "      <td>1.9013</td>\n",
       "      <td>2.065012</td>\n",
       "      <td>1.7649</td>\n",
       "      <td>NaN</td>\n",
       "      <td>NaN</td>\n",
       "      <td>NaN</td>\n",
       "      <td>1</td>\n",
       "      <td>23.1726</td>\n",
       "      <td>16.846053</td>\n",
       "      <td>11.7077</td>\n",
       "    </tr>\n",
       "    <tr>\n",
       "      <th>6</th>\n",
       "      <td>1.2</td>\n",
       "      <td>1.8588</td>\n",
       "      <td>2.023375</td>\n",
       "      <td>1.7295</td>\n",
       "      <td>NaN</td>\n",
       "      <td>NaN</td>\n",
       "      <td>NaN</td>\n",
       "      <td>1.2</td>\n",
       "      <td>25.3088</td>\n",
       "      <td>19.394905</td>\n",
       "      <td>13.0432</td>\n",
       "    </tr>\n",
       "    <tr>\n",
       "      <th>7</th>\n",
       "      <td>1.4</td>\n",
       "      <td>1.8239</td>\n",
       "      <td>1.986050</td>\n",
       "      <td>1.7021</td>\n",
       "      <td>NaN</td>\n",
       "      <td>NaN</td>\n",
       "      <td>NaN</td>\n",
       "      <td>1.4</td>\n",
       "      <td>27.3544</td>\n",
       "      <td>21.781510</td>\n",
       "      <td>14.0876</td>\n",
       "    </tr>\n",
       "    <tr>\n",
       "      <th>8</th>\n",
       "      <td>1.6</td>\n",
       "      <td>1.794</td>\n",
       "      <td>1.952969</td>\n",
       "      <td>1.6809</td>\n",
       "      <td>NaN</td>\n",
       "      <td>NaN</td>\n",
       "      <td>NaN</td>\n",
       "      <td>1.6</td>\n",
       "      <td>29.2782</td>\n",
       "      <td>23.951465</td>\n",
       "      <td>14.8994</td>\n",
       "    </tr>\n",
       "    <tr>\n",
       "      <th>9</th>\n",
       "      <td>1.8</td>\n",
       "      <td>1.7681</td>\n",
       "      <td>1.923947</td>\n",
       "      <td>1.6644</td>\n",
       "      <td>NaN</td>\n",
       "      <td>NaN</td>\n",
       "      <td>NaN</td>\n",
       "      <td>1.8</td>\n",
       "      <td>31.0583</td>\n",
       "      <td>25.887087</td>\n",
       "      <td>15.5355</td>\n",
       "    </tr>\n",
       "    <tr>\n",
       "      <th>10</th>\n",
       "      <td>2</td>\n",
       "      <td>1.7454</td>\n",
       "      <td>1.898668</td>\n",
       "      <td>1.6514</td>\n",
       "      <td>NaN</td>\n",
       "      <td>NaN</td>\n",
       "      <td>NaN</td>\n",
       "      <td>2</td>\n",
       "      <td>32.6847</td>\n",
       "      <td>27.593195</td>\n",
       "      <td>16.0376</td>\n",
       "    </tr>\n",
       "  </tbody>\n",
       "</table>\n",
       "</div>"
      ],
      "text/plain": [
       "        Unnamed: 0             blood      skin     Fat  Unnamed: 4  \\\n",
       "0   Frequency(THz)  refractive index       NaN     NaN         NaN   \n",
       "1              0.2            2.7108  2.487803  2.0305         NaN   \n",
       "2              0.4            2.2105  2.246139  1.9319         NaN   \n",
       "3              0.6            2.0427  2.165657  1.8659         NaN   \n",
       "4              0.8            1.9573  2.111387  1.8101         NaN   \n",
       "5                1            1.9013  2.065012  1.7649         NaN   \n",
       "6              1.2            1.8588  2.023375  1.7295         NaN   \n",
       "7              1.4            1.8239  1.986050  1.7021         NaN   \n",
       "8              1.6             1.794  1.952969  1.6809         NaN   \n",
       "9              1.8            1.7681  1.923947  1.6644         NaN   \n",
       "10               2            1.7454  1.898668  1.6514         NaN   \n",
       "\n",
       "    Unnamed: 5  Unnamed: 6      Unnamed: 7                        blood.1  \\\n",
       "0          NaN         NaN  Frequency(THz)  absorption coefficient(mm^-1)   \n",
       "1          NaN         NaN             0.2                        11.7758   \n",
       "2          NaN         NaN             0.4                        16.0218   \n",
       "3          NaN         NaN             0.6                        18.6761   \n",
       "4          NaN         NaN             0.8                        20.9721   \n",
       "5          NaN         NaN               1                        23.1726   \n",
       "6          NaN         NaN             1.2                        25.3088   \n",
       "7          NaN         NaN             1.4                        27.3544   \n",
       "8          NaN         NaN             1.6                        29.2782   \n",
       "9          NaN         NaN             1.8                        31.0583   \n",
       "10         NaN         NaN               2                        32.6847   \n",
       "\n",
       "       skin.1    Fat.1  \n",
       "0         NaN      NaN  \n",
       "1    7.240005   4.0489  \n",
       "2    9.490481   5.8964  \n",
       "3   11.736955   8.0317  \n",
       "4   14.240531  10.0315  \n",
       "5   16.846053  11.7077  \n",
       "6   19.394905  13.0432  \n",
       "7   21.781510  14.0876  \n",
       "8   23.951465  14.8994  \n",
       "9   25.887087  15.5355  \n",
       "10  27.593195  16.0376  "
      ]
     },
     "execution_count": 2,
     "metadata": {},
     "output_type": "execute_result"
    }
   ],
   "source": [
    "df = pd.read_excel('coefficient.xlsx')\n",
    "df"
   ]
  },
  {
   "cell_type": "code",
   "execution_count": null,
   "metadata": {},
   "outputs": [],
   "source": []
  },
  {
   "cell_type": "markdown",
   "metadata": {},
   "source": [
    "# Frequency vs Reactive Index (blood tissue)"
   ]
  },
  {
   "cell_type": "code",
   "execution_count": 3,
   "metadata": {
    "scrolled": true
   },
   "outputs": [
    {
     "name": "stdout",
     "output_type": "stream",
     "text": [
      "[[0.2]\n",
      " [0.4]\n",
      " [0.6]\n",
      " [0.8]\n",
      " [1]\n",
      " [1.2]\n",
      " [1.4]\n",
      " [1.6]\n",
      " [1.8]\n",
      " [2]]\n",
      "[2.7108 2.2105 2.0427 1.9573 1.9013 1.8588 1.8239 1.794 1.7681 1.7454]\n"
     ]
    }
   ],
   "source": [
    "x = np.array(df.values[1:, 0]).reshape(-1,1)\n",
    "y = np.array(df.values[1:, 1])\n",
    "print(x)\n",
    "print(y)"
   ]
  },
  {
   "cell_type": "code",
   "execution_count": 4,
   "metadata": {},
   "outputs": [
    {
     "name": "stdout",
     "output_type": "stream",
     "text": [
      "variance(R^2):  0.7129134230118614\n",
      "intercept:  2.430333333333334\n",
      "slope:  [-0.4082303]\n",
      "[2.34868727 2.26704121 2.18539515 2.10374909 2.02210303 1.94045697\n",
      " 1.85881091 1.77716485 1.69551879 1.61387273]\n"
     ]
    }
   ],
   "source": [
    "model = LinearRegression().fit(x,y)\n",
    "variance = model.score(x,y)\n",
    "print(\"variance(R^2): \",variance)\n",
    "print(\"intercept: \", model.intercept_)\n",
    "print(\"slope: \", model.coef_)\n",
    "y_prediction = model.predict(x)\n",
    "print(y_prediction)"
   ]
  },
  {
   "cell_type": "code",
   "execution_count": 5,
   "metadata": {},
   "outputs": [
    {
     "data": {
      "image/png": "[encoded data removed]",
      "text/plain": [
       "<Figure size 432x288 with 1 Axes>"
      ]
     },
     "metadata": {
      "needs_background": "light"
     },
     "output_type": "display_data"
    }
   ],
   "source": [
    "plt.plot(x, y, 'ko-', label='output' )\n",
    "plt.plot(x, y_prediction, 'bo-', label=\"prediction\" )\n",
    "plt.xlabel('frequency (THz)')\n",
    "plt.ylabel('refractive Index (blood tissue)')\n",
    "plt.title('Linear Regression model')\n",
    "plt.legend()\n",
    "plt.savefig('plot.png')\n",
    "plt.show()"
   ]
  },
  {
   "cell_type": "code",
   "execution_count": null,
   "metadata": {},
   "outputs": [],
   "source": []
  },
  {
   "cell_type": "markdown",
   "metadata": {},
   "source": [
    "## Frequency vs Absorption Coefficient (blood tissue)"
   ]
  },
  {
   "cell_type": "code",
   "execution_count": 6,
   "metadata": {},
   "outputs": [
    {
     "name": "stdout",
     "output_type": "stream",
     "text": [
      "[[0.2]\n",
      " [0.4]\n",
      " [0.6]\n",
      " [0.8]\n",
      " [1]\n",
      " [1.2]\n",
      " [1.4]\n",
      " [1.6]\n",
      " [1.8]\n",
      " [2]]\n",
      "[11.7758 16.0218 18.6761 20.9721 23.1726 25.3088 27.3544 29.2782 31.0583\n",
      " 32.6847]\n"
     ]
    }
   ],
   "source": [
    "x_freq = np.array(df.values[1:, 0]).reshape(-1,1)\n",
    "y_absorb = np.array(df.values[1:, 8])\n",
    "print(x_freq)\n",
    "print(y_absorb)"
   ]
  },
  {
   "cell_type": "code",
   "execution_count": 7,
   "metadata": {},
   "outputs": [
    {
     "name": "stdout",
     "output_type": "stream",
     "text": [
      "variance(R^2):  0.9850751552173891\n",
      "intercept:  11.372639999999999\n",
      "slope:  [11.14330909]\n",
      "y prediction:  [13.60130182 15.82996364 18.05862545 20.28728727 22.51594909 24.74461091\n",
      " 26.97327273 29.20193455 31.43059636 33.65925818]\n"
     ]
    }
   ],
   "source": [
    "model = LinearRegression().fit(x_freq,y_absorb)\n",
    "variance1 = model.score(x_freq,y_absorb)\n",
    "print(\"variance(R^2): \",variance1)\n",
    "print(\"intercept: \", model.intercept_)\n",
    "print(\"slope: \", model.coef_)\n",
    "y_prediction1 = model.predict(x_freq)\n",
    "print(\"y prediction: \",y_prediction1)"
   ]
  },
  {
   "cell_type": "code",
   "execution_count": 8,
   "metadata": {
    "scrolled": true
   },
   "outputs": [
    {
     "data": {
      "image/png": "[encoded data removed]",
      "text/plain": [
       "<Figure size 432x288 with 1 Axes>"
      ]
     },
     "metadata": {
      "needs_background": "light"
     },
     "output_type": "display_data"
    }
   ],
   "source": [
    "plt.plot(x_freq, y_absorb, 'k*-', label='output' )\n",
    "plt.plot(x_freq, y_prediction1, 'bo-', label=\"prediction\" )\n",
    "plt.xlabel('frequency (THz)')\n",
    "plt.ylabel('absorption coefficient(mm^-1)')\n",
    "plt.title('Linear Regression model')\n",
    "plt.legend()\n",
    "plt.savefig('plot.png')\n",
    "plt.show()"
   ]
  },
  {
   "cell_type": "code",
   "execution_count": null,
   "metadata": {},
   "outputs": [],
   "source": []
  }
 ],
 "metadata": {
  "kernelspec": {
   "display_name": "Python 3",
   "language": "python",
   "name": "python3"
  },
  "language_info": {
   "codemirror_mode": {
    "name": "ipython",
    "version": 3
   },
   "file_extension": ".py",
   "mimetype": "text/x-python",
   "name": "python",
   "nbconvert_exporter": "python",
   "pygments_lexer": "ipython3",
   "version": "3.7.6"
  }
 },
 "nbformat": 4,
 "nbformat_minor": 4
}
