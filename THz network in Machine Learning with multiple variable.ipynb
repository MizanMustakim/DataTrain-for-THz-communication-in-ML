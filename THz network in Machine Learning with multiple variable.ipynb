{
 "cells": [
  {
   "cell_type": "code",
   "execution_count": 1,
   "metadata": {},
   "outputs": [],
   "source": [
    "import numpy as np\n",
    "from sklearn.linear_model import LinearRegression\n",
    "import matplotlib.pyplot as plt\n",
    "import pandas as pd\n",
    "import sklearn.metrics as sm\n",
    "from sklearn.model_selection import train_test_split"
   ]
  },
  {
   "cell_type": "code",
   "execution_count": 2,
   "metadata": {},
   "outputs": [
    {
     "data": {
      "text/html": [
       "<div>\n",
       "<style scoped>\n",
       "    .dataframe tbody tr th:only-of-type {\n",
       "        vertical-align: middle;\n",
       "    }\n",
       "\n",
       "    .dataframe tbody tr th {\n",
       "        vertical-align: top;\n",
       "    }\n",
       "\n",
       "    .dataframe thead th {\n",
       "        text-align: right;\n",
       "    }\n",
       "</style>\n",
       "<table border=\"1\" class=\"dataframe\">\n",
       "  <thead>\n",
       "    <tr style=\"text-align: right;\">\n",
       "      <th></th>\n",
       "      <th>Unnamed: 0</th>\n",
       "      <th>blood</th>\n",
       "      <th>skin</th>\n",
       "      <th>Fat</th>\n",
       "      <th>Unnamed: 4</th>\n",
       "      <th>Unnamed: 5</th>\n",
       "      <th>Unnamed: 6</th>\n",
       "      <th>Unnamed: 7</th>\n",
       "      <th>blood.1</th>\n",
       "      <th>skin.1</th>\n",
       "      <th>Fat.1</th>\n",
       "      <th>Unnamed: 11</th>\n",
       "      <th>Unnamed: 12</th>\n",
       "      <th>Unnamed: 13</th>\n",
       "      <th>Unnamed: 14</th>\n",
       "    </tr>\n",
       "  </thead>\n",
       "  <tbody>\n",
       "    <tr>\n",
       "      <th>0</th>\n",
       "      <td>Frequency(THz)</td>\n",
       "      <td>refractive index</td>\n",
       "      <td>NaN</td>\n",
       "      <td>NaN</td>\n",
       "      <td>NaN</td>\n",
       "      <td>NaN</td>\n",
       "      <td>NaN</td>\n",
       "      <td>Frequency(THz)</td>\n",
       "      <td>absorption coefficient(mm^-1)</td>\n",
       "      <td>NaN</td>\n",
       "      <td>NaN</td>\n",
       "      <td>NaN</td>\n",
       "      <td>Path loss (blood) distance d=1mm</td>\n",
       "      <td>NaN</td>\n",
       "      <td>Path loss in dB</td>\n",
       "    </tr>\n",
       "    <tr>\n",
       "      <th>1</th>\n",
       "      <td>0.2</td>\n",
       "      <td>2.7108</td>\n",
       "      <td>2.487803</td>\n",
       "      <td>2.0305</td>\n",
       "      <td>NaN</td>\n",
       "      <td>NaN</td>\n",
       "      <td>NaN</td>\n",
       "      <td>0.2</td>\n",
       "      <td>11.7758</td>\n",
       "      <td>7.240005</td>\n",
       "      <td>4.0489</td>\n",
       "      <td>NaN</td>\n",
       "      <td>6.70806e+07</td>\n",
       "      <td>NaN</td>\n",
       "      <td>156.532</td>\n",
       "    </tr>\n",
       "    <tr>\n",
       "      <th>2</th>\n",
       "      <td>0.4</td>\n",
       "      <td>2.2105</td>\n",
       "      <td>2.246139</td>\n",
       "      <td>1.9319</td>\n",
       "      <td>NaN</td>\n",
       "      <td>NaN</td>\n",
       "      <td>NaN</td>\n",
       "      <td>0.4</td>\n",
       "      <td>16.0218</td>\n",
       "      <td>9.490481</td>\n",
       "      <td>5.8964</td>\n",
       "      <td>NaN</td>\n",
       "      <td>1.24583e+10</td>\n",
       "      <td>NaN</td>\n",
       "      <td>201.909</td>\n",
       "    </tr>\n",
       "    <tr>\n",
       "      <th>3</th>\n",
       "      <td>0.6</td>\n",
       "      <td>2.0427</td>\n",
       "      <td>2.165657</td>\n",
       "      <td>1.8659</td>\n",
       "      <td>NaN</td>\n",
       "      <td>NaN</td>\n",
       "      <td>NaN</td>\n",
       "      <td>0.6</td>\n",
       "      <td>18.6761</td>\n",
       "      <td>11.736955</td>\n",
       "      <td>8.0317</td>\n",
       "      <td>NaN</td>\n",
       "      <td>3.40264e+11</td>\n",
       "      <td>NaN</td>\n",
       "      <td>230.636</td>\n",
       "    </tr>\n",
       "    <tr>\n",
       "      <th>4</th>\n",
       "      <td>0.8</td>\n",
       "      <td>1.9573</td>\n",
       "      <td>2.111387</td>\n",
       "      <td>1.8101</td>\n",
       "      <td>NaN</td>\n",
       "      <td>NaN</td>\n",
       "      <td>NaN</td>\n",
       "      <td>0.8</td>\n",
       "      <td>20.9721</td>\n",
       "      <td>14.240531</td>\n",
       "      <td>10.0315</td>\n",
       "      <td>NaN</td>\n",
       "      <td>5.51746e+12</td>\n",
       "      <td>NaN</td>\n",
       "      <td>254.835</td>\n",
       "    </tr>\n",
       "    <tr>\n",
       "      <th>5</th>\n",
       "      <td>1</td>\n",
       "      <td>1.9013</td>\n",
       "      <td>2.065012</td>\n",
       "      <td>1.7649</td>\n",
       "      <td>NaN</td>\n",
       "      <td>NaN</td>\n",
       "      <td>NaN</td>\n",
       "      <td>1</td>\n",
       "      <td>23.1726</td>\n",
       "      <td>16.846053</td>\n",
       "      <td>11.7077</td>\n",
       "      <td>NaN</td>\n",
       "      <td>7.34532e+13</td>\n",
       "      <td>NaN</td>\n",
       "      <td>277.32</td>\n",
       "    </tr>\n",
       "    <tr>\n",
       "      <th>6</th>\n",
       "      <td>1.2</td>\n",
       "      <td>1.8588</td>\n",
       "      <td>2.023375</td>\n",
       "      <td>1.7295</td>\n",
       "      <td>NaN</td>\n",
       "      <td>NaN</td>\n",
       "      <td>NaN</td>\n",
       "      <td>1.2</td>\n",
       "      <td>25.3088</td>\n",
       "      <td>19.394905</td>\n",
       "      <td>13.0432</td>\n",
       "      <td>NaN</td>\n",
       "      <td>8.56007e+14</td>\n",
       "      <td>NaN</td>\n",
       "      <td>298.65</td>\n",
       "    </tr>\n",
       "    <tr>\n",
       "      <th>7</th>\n",
       "      <td>1.4</td>\n",
       "      <td>1.8239</td>\n",
       "      <td>1.986050</td>\n",
       "      <td>1.7021</td>\n",
       "      <td>NaN</td>\n",
       "      <td>NaN</td>\n",
       "      <td>NaN</td>\n",
       "      <td>1.4</td>\n",
       "      <td>27.3544</td>\n",
       "      <td>21.781510</td>\n",
       "      <td>14.0876</td>\n",
       "      <td>NaN</td>\n",
       "      <td>8675615827705397</td>\n",
       "      <td>NaN</td>\n",
       "      <td>318.766</td>\n",
       "    </tr>\n",
       "    <tr>\n",
       "      <th>8</th>\n",
       "      <td>1.6</td>\n",
       "      <td>1.794</td>\n",
       "      <td>1.952969</td>\n",
       "      <td>1.6809</td>\n",
       "      <td>NaN</td>\n",
       "      <td>NaN</td>\n",
       "      <td>NaN</td>\n",
       "      <td>1.6</td>\n",
       "      <td>29.2782</td>\n",
       "      <td>23.951465</td>\n",
       "      <td>14.8994</td>\n",
       "      <td>NaN</td>\n",
       "      <td>75062454482432384</td>\n",
       "      <td>NaN</td>\n",
       "      <td>337.508</td>\n",
       "    </tr>\n",
       "    <tr>\n",
       "      <th>9</th>\n",
       "      <td>1.8</td>\n",
       "      <td>1.7681</td>\n",
       "      <td>1.923947</td>\n",
       "      <td>1.6644</td>\n",
       "      <td>NaN</td>\n",
       "      <td>NaN</td>\n",
       "      <td>NaN</td>\n",
       "      <td>1.8</td>\n",
       "      <td>31.0583</td>\n",
       "      <td>25.887087</td>\n",
       "      <td>15.5355</td>\n",
       "      <td>NaN</td>\n",
       "      <td>547248001711980800</td>\n",
       "      <td>NaN</td>\n",
       "      <td>354.764</td>\n",
       "    </tr>\n",
       "    <tr>\n",
       "      <th>10</th>\n",
       "      <td>2</td>\n",
       "      <td>1.7454</td>\n",
       "      <td>1.898668</td>\n",
       "      <td>1.6514</td>\n",
       "      <td>NaN</td>\n",
       "      <td>NaN</td>\n",
       "      <td>NaN</td>\n",
       "      <td>2</td>\n",
       "      <td>32.6847</td>\n",
       "      <td>27.593195</td>\n",
       "      <td>16.0376</td>\n",
       "      <td>NaN</td>\n",
       "      <td>3348204732054989824</td>\n",
       "      <td>NaN</td>\n",
       "      <td>370.496</td>\n",
       "    </tr>\n",
       "  </tbody>\n",
       "</table>\n",
       "</div>"
      ],
      "text/plain": [
       "        Unnamed: 0             blood      skin     Fat  Unnamed: 4  \\\n",
       "0   Frequency(THz)  refractive index       NaN     NaN         NaN   \n",
       "1              0.2            2.7108  2.487803  2.0305         NaN   \n",
       "2              0.4            2.2105  2.246139  1.9319         NaN   \n",
       "3              0.6            2.0427  2.165657  1.8659         NaN   \n",
       "4              0.8            1.9573  2.111387  1.8101         NaN   \n",
       "5                1            1.9013  2.065012  1.7649         NaN   \n",
       "6              1.2            1.8588  2.023375  1.7295         NaN   \n",
       "7              1.4            1.8239  1.986050  1.7021         NaN   \n",
       "8              1.6             1.794  1.952969  1.6809         NaN   \n",
       "9              1.8            1.7681  1.923947  1.6644         NaN   \n",
       "10               2            1.7454  1.898668  1.6514         NaN   \n",
       "\n",
       "    Unnamed: 5  Unnamed: 6      Unnamed: 7                        blood.1  \\\n",
       "0          NaN         NaN  Frequency(THz)  absorption coefficient(mm^-1)   \n",
       "1          NaN         NaN             0.2                        11.7758   \n",
       "2          NaN         NaN             0.4                        16.0218   \n",
       "3          NaN         NaN             0.6                        18.6761   \n",
       "4          NaN         NaN             0.8                        20.9721   \n",
       "5          NaN         NaN               1                        23.1726   \n",
       "6          NaN         NaN             1.2                        25.3088   \n",
       "7          NaN         NaN             1.4                        27.3544   \n",
       "8          NaN         NaN             1.6                        29.2782   \n",
       "9          NaN         NaN             1.8                        31.0583   \n",
       "10         NaN         NaN               2                        32.6847   \n",
       "\n",
       "       skin.1    Fat.1  Unnamed: 11                       Unnamed: 12  \\\n",
       "0         NaN      NaN          NaN  Path loss (blood) distance d=1mm   \n",
       "1    7.240005   4.0489          NaN                       6.70806e+07   \n",
       "2    9.490481   5.8964          NaN                       1.24583e+10   \n",
       "3   11.736955   8.0317          NaN                       3.40264e+11   \n",
       "4   14.240531  10.0315          NaN                       5.51746e+12   \n",
       "5   16.846053  11.7077          NaN                       7.34532e+13   \n",
       "6   19.394905  13.0432          NaN                       8.56007e+14   \n",
       "7   21.781510  14.0876          NaN                  8675615827705397   \n",
       "8   23.951465  14.8994          NaN                 75062454482432384   \n",
       "9   25.887087  15.5355          NaN                547248001711980800   \n",
       "10  27.593195  16.0376          NaN               3348204732054989824   \n",
       "\n",
       "    Unnamed: 13      Unnamed: 14  \n",
       "0           NaN  Path loss in dB  \n",
       "1           NaN          156.532  \n",
       "2           NaN          201.909  \n",
       "3           NaN          230.636  \n",
       "4           NaN          254.835  \n",
       "5           NaN           277.32  \n",
       "6           NaN           298.65  \n",
       "7           NaN          318.766  \n",
       "8           NaN          337.508  \n",
       "9           NaN          354.764  \n",
       "10          NaN          370.496  "
      ]
     },
     "execution_count": 2,
     "metadata": {},
     "output_type": "execute_result"
    }
   ],
   "source": [
    "df = pd.read_excel('coefficient2.xlsx')\n",
    "df"
   ]
  },
  {
   "cell_type": "markdown",
   "metadata": {},
   "source": [
    "# Linear Regression Model with multiple variable"
   ]
  },
  {
   "cell_type": "markdown",
   "metadata": {},
   "source": [
    "##### Initializing the data"
   ]
  },
  {
   "cell_type": "code",
   "execution_count": 3,
   "metadata": {},
   "outputs": [],
   "source": [
    "freq = np.array(df.values[1:, 7], dtype='float').reshape(-1,1) #frequency\n",
    "re_ind = np.array(df.values[1:, 1], dtype='float').reshape(-1,1) #refractive index\n",
    "abs_co = np.array(df.values[1:, 8], dtype='float').reshape(-1,1) #absorption co-efficient\n",
    "pa_lo = np.array(df.values[1:, 14], dtype='float').reshape(-1,1) #path loss (db) for 1mm distance\n",
    "x = np.append(freq, re_ind, axis=1)\n",
    "x_final = np.append(x, abs_co, axis=1) #multiple features"
   ]
  },
  {
   "cell_type": "markdown",
   "metadata": {},
   "source": [
    "##### Fitting the model"
   ]
  },
  {
   "cell_type": "code",
   "execution_count": 4,
   "metadata": {},
   "outputs": [],
   "source": [
    "model = LinearRegression().fit(x_final, pa_lo)\n",
    "y_pred = model.predict(x_final)"
   ]
  },
  {
   "cell_type": "markdown",
   "metadata": {},
   "source": [
    "##### Measure the accuracy"
   ]
  },
  {
   "cell_type": "code",
   "execution_count": 5,
   "metadata": {},
   "outputs": [
    {
     "name": "stdout",
     "output_type": "stream",
     "text": [
      "Regression accuracy = 99.99%\n"
     ]
    }
   ],
   "source": [
    "r_sq = model.score(x_final, pa_lo)\n",
    "print(\"Regression accuracy = {:0.2f}%\".format(100 * r_sq))"
   ]
  },
  {
   "cell_type": "markdown",
   "metadata": {},
   "source": [
    "##### Plotting the data"
   ]
  },
  {
   "cell_type": "code",
   "execution_count": 6,
   "metadata": {},
   "outputs": [
    {
     "data": {
      "image/png": "[encoded data removed]",
      "text/plain": [
       "<Figure size 432x288 with 1 Axes>"
      ]
     },
     "metadata": {
      "needs_background": "light"
     },
     "output_type": "display_data"
    }
   ],
   "source": [
    "plt.plot(freq, pa_lo, 'g^--', label='Output' )\n",
    "plt.plot(freq, y_pred, 'r-', label= \"Prediction\")\n",
    "plt.text(.15, 320, (\"Regression accuracy = {:0.2f}%\".format(100 * r_sq)))\n",
    "plt.text(.15, 300, \"distance = 1 mm\")\n",
    "plt.xlabel('Frequency (THz)')\n",
    "plt.ylabel('Path Loss (dB)')\n",
    "plt.title('Linear Regression model (blood cell)')\n",
    "plt.legend()\n",
    "plt.savefig('prediction_with_multi_var.png')"
   ]
  },
  {
   "cell_type": "markdown",
   "metadata": {},
   "source": [
    "# Cross checking the accuracy by another way"
   ]
  },
  {
   "cell_type": "code",
   "execution_count": 7,
   "metadata": {},
   "outputs": [
    {
     "name": "stdout",
     "output_type": "stream",
     "text": [
      "Regression accuracy = 99.98%\n"
     ]
    }
   ],
   "source": [
    "X_train, X_test, y_train, y_test = train_test_split(x_final, pa_lo, random_state=1)\n",
    "lm2 = LinearRegression()\n",
    "lm2.fit(X_train, y_train)\n",
    "y_pred = lm2.predict(X_test)\n",
    "print(\"Regression accuracy = {:0.2f}%\".format(100 * sm.r2_score(y_test, y_pred)))"
   ]
  }
 ],
 "metadata": {
  "kernelspec": {
   "display_name": "Python 3",
   "language": "python",
   "name": "python3"
  },
  "language_info": {
   "codemirror_mode": {
    "name": "ipython",
    "version": 3
   },
   "file_extension": ".py",
   "mimetype": "text/x-python",
   "name": "python",
   "nbconvert_exporter": "python",
   "pygments_lexer": "ipython3",
   "version": "3.7.6"
  }
 },
 "nbformat": 4,
 "nbformat_minor": 4
}
