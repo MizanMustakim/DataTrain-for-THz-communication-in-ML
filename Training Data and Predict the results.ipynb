{
 "cells": [
  {
   "cell_type": "code",
   "execution_count": 1,
   "metadata": {},
   "outputs": [],
   "source": [
    "import numpy as np\n",
    "from sklearn.linear_model import LinearRegression\n",
    "import matplotlib.pyplot as plt\n",
    "import pandas as pd"
   ]
  },
  {
   "cell_type": "code",
   "execution_count": 2,
   "metadata": {},
   "outputs": [],
   "source": [
    "import openpyxl as xl"
   ]
  },
  {
   "cell_type": "code",
   "execution_count": 3,
   "metadata": {
    "scrolled": true
   },
   "outputs": [],
   "source": [
    "wb = xl.load_workbook('coefficient.xlsx')\n",
    "sheet = wb['Sheet1']\n",
    "sheet['m2'].value = 'Path Loss(blood)'\n",
    "wb.save('coefficient.xlsx')"
   ]
  },
  {
   "cell_type": "markdown",
   "metadata": {},
   "source": [
    "## Assume the distance variable, d = 10 mm\n",
    "## Determine the Path loss, P(f,d) = ((4*pi*f*n*d)/c)^2 * e^(a(f)*d)"
   ]
  },
  {
   "cell_type": "code",
   "execution_count": 4,
   "metadata": {
    "scrolled": true
   },
   "outputs": [
    {
     "name": "stdout",
     "output_type": "stream",
     "text": [
      "1.010987541479509e-23\n",
      "1.4526136116065513e-23\n",
      "2.0540499370193462e-23\n",
      "2.6587813696214366e-23\n",
      "3.2108755039753886e-23\n",
      "3.704728723191401e-23\n",
      "4.1559989771789305e-23\n",
      "4.5842447571190506e-23\n",
      "5.0081231287620804e-23\n",
      "5.440422510427106e-23\n"
     ]
    }
   ],
   "source": [
    "c = 3 * 10**8\n",
    "def path_loss(frequency, abs_coeff, ref_indx, distance):\n",
    "    loss_spread = np.square((4*np.pi*frequency*ref_indx*distance)/(c*10**3))\n",
    "    loss_abs = np.exp(abs_coeff * distance)\n",
    "    pa_loss = loss_spread * loss_abs\n",
    "    return pa_loss\n",
    "\n",
    "for i in range(3, sheet.max_row+1):\n",
    "    frequency = sheet.cell(i, 1).value\n",
    "    abs_coeff = sheet.cell(i, 9).value\n",
    "    ref_indx = sheet.cell(i, 2).value\n",
    "    distance = 1 / abs_coeff\n",
    "    print(path_loss(frequency, abs_coeff, ref_indx, distance))\n",
    "    updated_data = sheet.cell(i, 13)\n",
    "    updated_data.value = path_loss(frequency, abs_coeff, ref_indx, distance)\n",
    "wb.save('coefficient.xlsx')"
   ]
  },
  {
   "cell_type": "code",
   "execution_count": 5,
   "metadata": {},
   "outputs": [
    {
     "data": {
      "text/html": [
       "<div>\n",
       "<style scoped>\n",
       "    .dataframe tbody tr th:only-of-type {\n",
       "        vertical-align: middle;\n",
       "    }\n",
       "\n",
       "    .dataframe tbody tr th {\n",
       "        vertical-align: top;\n",
       "    }\n",
       "\n",
       "    .dataframe thead th {\n",
       "        text-align: right;\n",
       "    }\n",
       "</style>\n",
       "<table border=\"1\" class=\"dataframe\">\n",
       "  <thead>\n",
       "    <tr style=\"text-align: right;\">\n",
       "      <th></th>\n",
       "      <th>Unnamed: 0</th>\n",
       "      <th>blood</th>\n",
       "      <th>skin</th>\n",
       "      <th>Fat</th>\n",
       "      <th>Unnamed: 4</th>\n",
       "      <th>Unnamed: 5</th>\n",
       "      <th>Unnamed: 6</th>\n",
       "      <th>Unnamed: 7</th>\n",
       "      <th>blood.1</th>\n",
       "      <th>skin.1</th>\n",
       "      <th>Fat.1</th>\n",
       "      <th>Unnamed: 11</th>\n",
       "      <th>Unnamed: 12</th>\n",
       "    </tr>\n",
       "  </thead>\n",
       "  <tbody>\n",
       "    <tr>\n",
       "      <th>0</th>\n",
       "      <td>Frequency(THz)</td>\n",
       "      <td>refractive index</td>\n",
       "      <td>NaN</td>\n",
       "      <td>NaN</td>\n",
       "      <td>NaN</td>\n",
       "      <td>NaN</td>\n",
       "      <td>NaN</td>\n",
       "      <td>Frequency(THz)</td>\n",
       "      <td>absorption coefficient(mm^-1)</td>\n",
       "      <td>NaN</td>\n",
       "      <td>NaN</td>\n",
       "      <td>NaN</td>\n",
       "      <td>Path Loss(blood)</td>\n",
       "    </tr>\n",
       "    <tr>\n",
       "      <th>1</th>\n",
       "      <td>0.2</td>\n",
       "      <td>2.7108</td>\n",
       "      <td>2.487803</td>\n",
       "      <td>2.0305</td>\n",
       "      <td>NaN</td>\n",
       "      <td>NaN</td>\n",
       "      <td>NaN</td>\n",
       "      <td>0.2</td>\n",
       "      <td>11.7758</td>\n",
       "      <td>7.240005</td>\n",
       "      <td>4.0489</td>\n",
       "      <td>NaN</td>\n",
       "      <td>1.01099e-23</td>\n",
       "    </tr>\n",
       "    <tr>\n",
       "      <th>2</th>\n",
       "      <td>0.4</td>\n",
       "      <td>2.2105</td>\n",
       "      <td>2.246139</td>\n",
       "      <td>1.9319</td>\n",
       "      <td>NaN</td>\n",
       "      <td>NaN</td>\n",
       "      <td>NaN</td>\n",
       "      <td>0.4</td>\n",
       "      <td>16.0218</td>\n",
       "      <td>9.490481</td>\n",
       "      <td>5.8964</td>\n",
       "      <td>NaN</td>\n",
       "      <td>1.45261e-23</td>\n",
       "    </tr>\n",
       "    <tr>\n",
       "      <th>3</th>\n",
       "      <td>0.6</td>\n",
       "      <td>2.0427</td>\n",
       "      <td>2.165657</td>\n",
       "      <td>1.8659</td>\n",
       "      <td>NaN</td>\n",
       "      <td>NaN</td>\n",
       "      <td>NaN</td>\n",
       "      <td>0.6</td>\n",
       "      <td>18.6761</td>\n",
       "      <td>11.736955</td>\n",
       "      <td>8.0317</td>\n",
       "      <td>NaN</td>\n",
       "      <td>2.05405e-23</td>\n",
       "    </tr>\n",
       "    <tr>\n",
       "      <th>4</th>\n",
       "      <td>0.8</td>\n",
       "      <td>1.9573</td>\n",
       "      <td>2.111387</td>\n",
       "      <td>1.8101</td>\n",
       "      <td>NaN</td>\n",
       "      <td>NaN</td>\n",
       "      <td>NaN</td>\n",
       "      <td>0.8</td>\n",
       "      <td>20.9721</td>\n",
       "      <td>14.240531</td>\n",
       "      <td>10.0315</td>\n",
       "      <td>NaN</td>\n",
       "      <td>2.65878e-23</td>\n",
       "    </tr>\n",
       "    <tr>\n",
       "      <th>5</th>\n",
       "      <td>1</td>\n",
       "      <td>1.9013</td>\n",
       "      <td>2.065012</td>\n",
       "      <td>1.7649</td>\n",
       "      <td>NaN</td>\n",
       "      <td>NaN</td>\n",
       "      <td>NaN</td>\n",
       "      <td>1</td>\n",
       "      <td>23.1726</td>\n",
       "      <td>16.846053</td>\n",
       "      <td>11.7077</td>\n",
       "      <td>NaN</td>\n",
       "      <td>3.21088e-23</td>\n",
       "    </tr>\n",
       "    <tr>\n",
       "      <th>6</th>\n",
       "      <td>1.2</td>\n",
       "      <td>1.8588</td>\n",
       "      <td>2.023375</td>\n",
       "      <td>1.7295</td>\n",
       "      <td>NaN</td>\n",
       "      <td>NaN</td>\n",
       "      <td>NaN</td>\n",
       "      <td>1.2</td>\n",
       "      <td>25.3088</td>\n",
       "      <td>19.394905</td>\n",
       "      <td>13.0432</td>\n",
       "      <td>NaN</td>\n",
       "      <td>3.70473e-23</td>\n",
       "    </tr>\n",
       "    <tr>\n",
       "      <th>7</th>\n",
       "      <td>1.4</td>\n",
       "      <td>1.8239</td>\n",
       "      <td>1.986050</td>\n",
       "      <td>1.7021</td>\n",
       "      <td>NaN</td>\n",
       "      <td>NaN</td>\n",
       "      <td>NaN</td>\n",
       "      <td>1.4</td>\n",
       "      <td>27.3544</td>\n",
       "      <td>21.781510</td>\n",
       "      <td>14.0876</td>\n",
       "      <td>NaN</td>\n",
       "      <td>4.156e-23</td>\n",
       "    </tr>\n",
       "    <tr>\n",
       "      <th>8</th>\n",
       "      <td>1.6</td>\n",
       "      <td>1.794</td>\n",
       "      <td>1.952969</td>\n",
       "      <td>1.6809</td>\n",
       "      <td>NaN</td>\n",
       "      <td>NaN</td>\n",
       "      <td>NaN</td>\n",
       "      <td>1.6</td>\n",
       "      <td>29.2782</td>\n",
       "      <td>23.951465</td>\n",
       "      <td>14.8994</td>\n",
       "      <td>NaN</td>\n",
       "      <td>4.58424e-23</td>\n",
       "    </tr>\n",
       "    <tr>\n",
       "      <th>9</th>\n",
       "      <td>1.8</td>\n",
       "      <td>1.7681</td>\n",
       "      <td>1.923947</td>\n",
       "      <td>1.6644</td>\n",
       "      <td>NaN</td>\n",
       "      <td>NaN</td>\n",
       "      <td>NaN</td>\n",
       "      <td>1.8</td>\n",
       "      <td>31.0583</td>\n",
       "      <td>25.887087</td>\n",
       "      <td>15.5355</td>\n",
       "      <td>NaN</td>\n",
       "      <td>5.00812e-23</td>\n",
       "    </tr>\n",
       "    <tr>\n",
       "      <th>10</th>\n",
       "      <td>2</td>\n",
       "      <td>1.7454</td>\n",
       "      <td>1.898668</td>\n",
       "      <td>1.6514</td>\n",
       "      <td>NaN</td>\n",
       "      <td>NaN</td>\n",
       "      <td>NaN</td>\n",
       "      <td>2</td>\n",
       "      <td>32.6847</td>\n",
       "      <td>27.593195</td>\n",
       "      <td>16.0376</td>\n",
       "      <td>NaN</td>\n",
       "      <td>5.44042e-23</td>\n",
       "    </tr>\n",
       "  </tbody>\n",
       "</table>\n",
       "</div>"
      ],
      "text/plain": [
       "        Unnamed: 0             blood      skin     Fat  Unnamed: 4  \\\n",
       "0   Frequency(THz)  refractive index       NaN     NaN         NaN   \n",
       "1              0.2            2.7108  2.487803  2.0305         NaN   \n",
       "2              0.4            2.2105  2.246139  1.9319         NaN   \n",
       "3              0.6            2.0427  2.165657  1.8659         NaN   \n",
       "4              0.8            1.9573  2.111387  1.8101         NaN   \n",
       "5                1            1.9013  2.065012  1.7649         NaN   \n",
       "6              1.2            1.8588  2.023375  1.7295         NaN   \n",
       "7              1.4            1.8239  1.986050  1.7021         NaN   \n",
       "8              1.6             1.794  1.952969  1.6809         NaN   \n",
       "9              1.8            1.7681  1.923947  1.6644         NaN   \n",
       "10               2            1.7454  1.898668  1.6514         NaN   \n",
       "\n",
       "    Unnamed: 5  Unnamed: 6      Unnamed: 7                        blood.1  \\\n",
       "0          NaN         NaN  Frequency(THz)  absorption coefficient(mm^-1)   \n",
       "1          NaN         NaN             0.2                        11.7758   \n",
       "2          NaN         NaN             0.4                        16.0218   \n",
       "3          NaN         NaN             0.6                        18.6761   \n",
       "4          NaN         NaN             0.8                        20.9721   \n",
       "5          NaN         NaN               1                        23.1726   \n",
       "6          NaN         NaN             1.2                        25.3088   \n",
       "7          NaN         NaN             1.4                        27.3544   \n",
       "8          NaN         NaN             1.6                        29.2782   \n",
       "9          NaN         NaN             1.8                        31.0583   \n",
       "10         NaN         NaN               2                        32.6847   \n",
       "\n",
       "       skin.1    Fat.1  Unnamed: 11       Unnamed: 12  \n",
       "0         NaN      NaN          NaN  Path Loss(blood)  \n",
       "1    7.240005   4.0489          NaN       1.01099e-23  \n",
       "2    9.490481   5.8964          NaN       1.45261e-23  \n",
       "3   11.736955   8.0317          NaN       2.05405e-23  \n",
       "4   14.240531  10.0315          NaN       2.65878e-23  \n",
       "5   16.846053  11.7077          NaN       3.21088e-23  \n",
       "6   19.394905  13.0432          NaN       3.70473e-23  \n",
       "7   21.781510  14.0876          NaN         4.156e-23  \n",
       "8   23.951465  14.8994          NaN       4.58424e-23  \n",
       "9   25.887087  15.5355          NaN       5.00812e-23  \n",
       "10  27.593195  16.0376          NaN       5.44042e-23  "
      ]
     },
     "execution_count": 5,
     "metadata": {},
     "output_type": "execute_result"
    }
   ],
   "source": [
    "df = pd.read_excel('coefficient.xlsx')\n",
    "df"
   ]
  },
  {
   "cell_type": "markdown",
   "metadata": {},
   "source": [
    "# Linear Regression ML algorithm Class"
   ]
  },
  {
   "cell_type": "code",
   "execution_count": 6,
   "metadata": {},
   "outputs": [
    {
     "name": "stdout",
     "output_type": "stream",
     "text": [
      "variance(R^2):  0.8552710692517858\n",
      "intercept:  7.197356200529476e-23\n",
      "slope:  [-8.325796e-22]\n",
      "[1.27096852e-24 2.00081399e-23 2.73936122e-23 3.22741709e-23\n",
      " 3.60440763e-23 3.90767198e-23 4.15367913e-23 4.35367182e-23\n",
      " 4.51665700e-23 4.65004936e-23]\n"
     ]
    },
    {
     "data": {
      "image/png": "[encoded data removed]",
      "text/plain": [
       "<Figure size 432x288 with 1 Axes>"
      ]
     },
     "metadata": {
      "needs_background": "light"
     },
     "output_type": "display_data"
    }
   ],
   "source": [
    "class ML_algo:\n",
    "    def __init__(self, x, y):\n",
    "        self.x = x\n",
    "        self.y = y\n",
    "        \n",
    "    def train_data(self):\n",
    "        model = LinearRegression().fit(self.x, self.y)\n",
    "        variance = model.score(self.x, self.y)\n",
    "        print(\"variance(R^2): \",variance)\n",
    "        print(\"intercept: \", model.intercept_)\n",
    "        print(\"slope: \", model.coef_)\n",
    "        y_prediction = model.predict(self.x)\n",
    "        print(y_prediction)\n",
    "        \n",
    "        # plotting\n",
    "        plt.plot(self.x, self.y, 'ko-', label='output' )\n",
    "        plt.plot(self.x, y_prediction, 'bo-', label=\"prediction\" )\n",
    "        plt.xlabel('Distance(mm)')\n",
    "        plt.ylabel('Path Loss')\n",
    "        plt.title('Linear Regression model (blood cell)')\n",
    "        plt.legend()\n",
    "        plt.savefig('plot.png')\n",
    "        #plt.show()\n",
    "    \n",
    "x = 1 / np.array(df.values[1:, 8], dtype='float').reshape(-1,1)\n",
    "y = np.array(df.values[1:, 12])\n",
    "ML_algo(x, y).train_data()"
   ]
  },
  {
   "cell_type": "markdown",
   "metadata": {},
   "source": [
    "# Normal Equation"
   ]
  },
  {
   "cell_type": "code",
   "execution_count": 7,
   "metadata": {},
   "outputs": [
    {
     "data": {
      "text/plain": [
       "array([[1.        , 0.08491992],\n",
       "       [1.        , 0.06241496],\n",
       "       [1.        , 0.05354437],\n",
       "       [1.        , 0.0476824 ],\n",
       "       [1.        , 0.04315442],\n",
       "       [1.        , 0.03951195],\n",
       "       [1.        , 0.03655719],\n",
       "       [1.        , 0.03415511],\n",
       "       [1.        , 0.03219751],\n",
       "       [1.        , 0.03059536]])"
      ]
     },
     "execution_count": 7,
     "metadata": {},
     "output_type": "execute_result"
    }
   ],
   "source": [
    "x_one = np.ones((10,1), dtype='float')\n",
    "x = np.reshape(x, (10,1))\n",
    "up_x = np.append(x_one, x, axis=1)\n",
    "up_x"
   ]
  },
  {
   "cell_type": "code",
   "execution_count": 8,
   "metadata": {
    "scrolled": true
   },
   "outputs": [
    {
     "data": {
      "text/plain": [
       "array([7.197356200529461e-23, -8.325796004105857e-22], dtype=object)"
      ]
     },
     "execution_count": 8,
     "metadata": {},
     "output_type": "execute_result"
    }
   ],
   "source": [
    "x_trans = np.transpose(up_x)\n",
    "xT_dot_x = x_trans.dot(up_x)\n",
    "temp_1 = np.linalg.inv(xT_dot_x)\n",
    "temp_2 = x_trans.dot(y)\n",
    "theta = temp_1.dot(temp_2)\n",
    "theta"
   ]
  },
  {
   "cell_type": "markdown",
   "metadata": {},
   "source": [
    "# Plotting and analysis the prediction with new theta value"
   ]
  },
  {
   "cell_type": "code",
   "execution_count": 10,
   "metadata": {},
   "outputs": [
    {
     "data": {
      "image/png": "[encoded data removed]",
      "text/plain": [
       "<Figure size 432x288 with 1 Axes>"
      ]
     },
     "metadata": {
      "needs_background": "light"
     },
     "output_type": "display_data"
    }
   ],
   "source": [
    "y_new_predict = theta[0] + theta[1] * x\n",
    "plt.plot(x, y, 'ko-', label='output' )\n",
    "plt.plot(x, y_new_predict, 'b*-', label=\"updated prediction\" )\n",
    "plt.xlabel('Distance(mm)')\n",
    "plt.ylabel('Path Loss')\n",
    "plt.title('Linear Regression model (blood cell)')\n",
    "plt.legend()\n",
    "plt.savefig('new_plot.png')\n",
    "#plt.show()"
   ]
  }
 ],
 "metadata": {
  "kernelspec": {
   "display_name": "Python 3",
   "language": "python",
   "name": "python3"
  },
  "language_info": {
   "codemirror_mode": {
    "name": "ipython",
    "version": 3
   },
   "file_extension": ".py",
   "mimetype": "text/x-python",
   "name": "python",
   "nbconvert_exporter": "python",
   "pygments_lexer": "ipython3",
   "version": "3.7.6"
  }
 },
 "nbformat": 4,
 "nbformat_minor": 4
}
