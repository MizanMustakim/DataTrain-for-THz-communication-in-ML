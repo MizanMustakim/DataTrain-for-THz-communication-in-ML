{
 "cells": [
  {
   "cell_type": "code",
   "execution_count": 1,
   "metadata": {},
   "outputs": [],
   "source": [
    "import numpy as np\n",
    "from sklearn.linear_model import LinearRegression\n",
    "import matplotlib.pyplot as plt\n",
    "import pandas as pd"
   ]
  },
  {
   "cell_type": "code",
   "execution_count": 2,
   "metadata": {},
   "outputs": [],
   "source": [
    "import openpyxl as xl"
   ]
  },
  {
   "cell_type": "code",
   "execution_count": 3,
   "metadata": {
    "scrolled": true
   },
   "outputs": [],
   "source": [
    "wb = xl.load_workbook('coefficient.xlsx')\n",
    "sheet = wb['Sheet1']\n",
    "sheet['m2'].value = 'Path Loss'\n",
    "wb.save('coefficient.xlsx')"
   ]
  },
  {
   "cell_type": "markdown",
   "metadata": {},
   "source": [
    "## Assume the distance variable, d = 10 mm\n",
    "## Determine the Path loss, P(f,d) = ((4*pi*f*n*d)/c)^2 * e^(a(f)*d)"
   ]
  },
  {
   "cell_type": "code",
   "execution_count": 4,
   "metadata": {
    "scrolled": true
   },
   "outputs": [
    {
     "name": "stdout",
     "output_type": "stream",
     "text": [
      "7.14630855662269e+37\n",
      "5.236866963779281e+56\n",
      "3.389695071404434e+68\n",
      "5.180182066229264e+78\n",
      "2.7517034511169345e+88\n",
      "7.173430157367036e+97\n",
      "7.195899585173777e+106\n",
      "2.059060284468739e+115\n",
      "1.3621312294357784e+123\n",
      "1.896163052091553e+130\n"
     ]
    }
   ],
   "source": [
    "c = 3 * 10**8\n",
    "def path_loss(frequency, abs_coeff, ref_indx, distance):\n",
    "    loss_spread = np.square((4*np.pi*frequency*ref_indx*distance)/c)\n",
    "    loss_abs = np.exp(abs_coeff * distance)\n",
    "    pa_loss = loss_spread * loss_abs\n",
    "    return pa_loss\n",
    "for i in range(3, sheet.max_row+1):\n",
    "    frequency = sheet.cell(i, 1).value\n",
    "    abs_coeff = sheet.cell(i, 9).value\n",
    "    ref_indx = sheet.cell(i, 2).value\n",
    "    distance = 10\n",
    "    print(path_loss(frequency, abs_coeff, ref_indx, distance))\n",
    "    updated_data = sheet.cell(i, 13)\n",
    "    updated_data.value = path_loss(frequency, abs_coeff, ref_indx, distance)\n",
    "wb.save('coefficient.xlsx')"
   ]
  },
  {
   "cell_type": "code",
   "execution_count": null,
   "metadata": {},
   "outputs": [],
   "source": []
  }
 ],
 "metadata": {
  "kernelspec": {
   "display_name": "Python 3",
   "language": "python",
   "name": "python3"
  },
  "language_info": {
   "codemirror_mode": {
    "name": "ipython",
    "version": 3
   },
   "file_extension": ".py",
   "mimetype": "text/x-python",
   "name": "python",
   "nbconvert_exporter": "python",
   "pygments_lexer": "ipython3",
   "version": "3.7.6"
  }
 },
 "nbformat": 4,
 "nbformat_minor": 4
}
